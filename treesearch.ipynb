{
 "cells": [
  {
   "cell_type": "code",
   "execution_count": 47,
   "metadata": {},
   "outputs": [],
   "source": [
    "import torch\n",
    "from torch import nn\n",
    "import numpy as np\n",
    "import matplotlib.pyplot as plt"
   ]
  },
  {
   "cell_type": "code",
   "execution_count": 74,
   "metadata": {},
   "outputs": [
    {
     "name": "stdout",
     "output_type": "stream",
     "text": [
      "tensor([[0.0287, 0.1324, 0.1907]])\n"
     ]
    }
   ],
   "source": [
    "import torch\n",
    "import torch.nn.functional as F\n",
    "\n",
    "# Define your query point, centroids, and scores\n",
    "q = torch.tensor([0.5, 0.5]).unsqueeze(0)  # Shape: 1x2\n",
    "k = torch.tensor([[0.2, 0.2], [0.4, 0.4], [0.6, 0.6]])  # Shape: 3x2\n",
    "v = torch.tensor([0.1, 0.4, 0.5]).unsqueeze(0)  # Shape: 1x3\n",
    "\n",
    "# Compute the dot product of q and k\n",
    "scores = torch.matmul(q, k.T)  # Shape: 1x3\n",
    "\n",
    "# Scale the scores by 1/sqrt(d)\n",
    "d = q.size(1)  # The dimension of the query and key vectors\n",
    "scores = scores / torch.sqrt(torch.tensor([d]).float())\n",
    "\n",
    "# Apply the softmax function to get the weights\n",
    "weights = F.softmax(scores, dim=1)  # Shape: 1x3\n",
    "\n",
    "# Compute the weighted sum of the values\n",
    "output = weights * v  # Shape: 1x3\n",
    "\n",
    "print(output)"
   ]
  }
 ],
 "metadata": {
  "kernelspec": {
   "display_name": "nmannv1",
   "language": "python",
   "name": "python3"
  },
  "language_info": {
   "codemirror_mode": {
    "name": "ipython",
    "version": 3
   },
   "file_extension": ".py",
   "mimetype": "text/x-python",
   "name": "python",
   "nbconvert_exporter": "python",
   "pygments_lexer": "ipython3",
   "version": "3.11.5"
  }
 },
 "nbformat": 4,
 "nbformat_minor": 2
}
