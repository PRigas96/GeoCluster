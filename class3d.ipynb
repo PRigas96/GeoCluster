{
 "cells": [
  {
   "cell_type": "code",
   "execution_count": null,
   "id": "initial_id",
   "metadata": {
    "collapsed": true
   },
   "outputs": [],
   "source": [
    "import torch\n",
    "from src.k_tree import Ktree\n",
    "from src.utils.data import loadData_3d\n",
    "\n",
    "device = torch.device(\"cuda:0\" if torch.cuda.is_available() else \"cpu\")\n",
    "data, _ = loadData_3d(1000, 100)\n",
    "\n",
    "learning_rate = 5e-3 # 1e-2\n",
    "teacher_args = {\n",
    "    \"optimizer_lr\": learning_rate,\n",
    "    \"epochs\": 100, # 200\n",
    "    \"times\": 10,\n",
    "    \"alpha\": 10, # 5\n",
    "    \"beta\": 5\n",
    "}\n",
    "un_args = {\n",
    "    \"N\": 30,\n",
    "    \"M\": 30*30-1, # 10000 - 1\n",
    "    \"epsilon\": 0.14 # here a layer value should be somehow included. As layers get denser  epilson should be smaller\n",
    "}\n",
    "student_args = {\n",
    "    \"optimizer_lr\": 5e-3,\n",
    "    \"epochs\": 2000, # 30000\n",
    "}\n",
    "\n",
    "threshold = 0.1 * len(data)\n",
    "ktree = Ktree(threshold, data, teacher_args, un_args, student_args, 3)\n",
    "ktree.create_tree(save_path_prefix=\"models/cuboids/1000/class\")"
   ]
  },
  {
   "cell_type": "code",
   "execution_count": null,
   "id": "374a301d466ce287",
   "metadata": {
    "collapsed": false
   },
   "outputs": [],
   "source": [
    "# Print a student prediction both using the student model from training\n",
    "# and the student model loaded from config. The two outputs should be equal.\n",
    "query = torch.tensor([[4., 2., 0.], [2., 0., -2.]]).to(device)\n",
    "\n",
    "pred_trained = ktree.root.student(query)\n",
    "print(pred_trained)\n",
    "\n",
    "# Recreate the student model from config.\n",
    "node = Ktree.Node(ktree.root.data, \"\", ktree, None)\n",
    "node.create_student_from_config(\"models/cuboids/1000/class0_student_config.pt\")\n",
    "pred_config = node.student(query)\n",
    "print(pred_config)\n",
    "\n",
    "print(\"Predictions are \" + \"equal.\" if torch.equal(pred_trained, pred_config) else \"NOT equal.\")"
   ]
  },
  {
   "cell_type": "code",
   "execution_count": null,
   "id": "f50fb084ff632b71",
   "metadata": {},
   "outputs": [],
   "source": [
    "import numpy as np\n",
    "\n",
    "nop =  8 ** 3  # 512 points.\n",
    "random_p = torch.zeros(nop, 3)\n",
    "x_lim = [50, 950]\n",
    "y_lim = [50, 950]\n",
    "z_lim = [50, 950]\n",
    "base = 8\n",
    "for i, x in enumerate(np.linspace(x_lim[0],x_lim[1], base)):\n",
    "    for j, y in enumerate(np.linspace(y_lim[0],y_lim[1], base)):\n",
    "        for k, z in enumerate(np.linspace(z_lim[0],z_lim[1], base)):\n",
    "            index = i * (base ** 2) + j * base + k\n",
    "            random_p[index] = torch.Tensor([x, y, z])\n",
    " \n",
    "infer_points = random_p.to(device)\n",
    "num_of_correct_predictions = 0\n",
    "for query_point in infer_points:\n",
    "    pred = ktree.query(query_point)\n",
    "    brute_force = ktree.root.query(query_point)\n",
    "    if np.array_equal(pred, brute_force):\n",
    "        num_of_correct_predictions += 1\n",
    " \n",
    "print(f\"The percentage of correct predictions is {(num_of_correct_predictions / len(infer_points)) * 100:.2f}%\")"
   ]
  },
  {
   "cell_type": "code",
   "execution_count": null,
   "metadata": {},
   "outputs": [],
   "source": [
    "acc = 0\n",
    "mean_acc = 0\n",
    "times = 0\n",
    "\n",
    "while times < 4:\n",
    "    # Now let's create randomly N points in the space 50-950, 50-950, 50-950.\n",
    "    n = 1000\n",
    "    random_p = torch.zeros(n, 3)\n",
    "    bounding_box = [[50, 950]] * 3\n",
    "    \n",
    "    for i in range(n):\n",
    "        random_p[i] = torch.Tensor([np.random.randint(*area) for area in bounding_box])\n",
    "    infer_points = random_p.to(device)\n",
    "\n",
    "    num_of_correct_predictions = 0\n",
    "    for query_point in infer_points:\n",
    "        pred = ktree.query(query_point)\n",
    "        brute_force = ktree.root.query(query_point)\n",
    "        if np.array_equal(pred, brute_force):\n",
    "            num_of_correct_predictions += 1\n",
    "\n",
    "    acc = num_of_correct_predictions / len(infer_points) * 100\n",
    "    mean_acc += acc\n",
    "    times += 1\n",
    "    print(f\"The percentage of correct predictions (loop {times}) is {acc:.2f}%\")\n",
    "\n",
    "print(f\"The best percentage of correct predictions is {acc:.2f}%\")\n",
    "print(f\"The mean percentage of correct predictions is {mean_acc/times:.2f}%\")"
   ],
   "id": "19cf57c2f342a985"
  }
 ],
 "metadata": {
  "kernelspec": {
   "display_name": "Python 3",
   "language": "python",
   "name": "python3"
  },
  "language_info": {
   "codemirror_mode": {
    "name": "ipython",
    "version": 3
   },
   "file_extension": ".py",
   "mimetype": "text/x-python",
   "name": "python",
   "nbconvert_exporter": "python",
   "pygments_lexer": "ipython3",
   "version": "3.11.5"
  }
 },
 "nbformat": 4,
 "nbformat_minor": 5
}
